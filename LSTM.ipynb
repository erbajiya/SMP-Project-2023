{
  "cells": [
    {
      "cell_type": "markdown",
      "metadata": {
        "id": "view-in-github",
        "colab_type": "text"
      },
      "source": [
        "<a href=\"https://colab.research.google.com/github/okbajiya/SMP-Project-2023/blob/main/LSTM.ipynb\" target=\"_parent\"><img src=\"https://colab.research.google.com/assets/colab-badge.svg\" alt=\"Open In Colab\"/></a>"
      ]
    },
    {
      "cell_type": "code",
      "execution_count": 1,
      "metadata": {
        "id": "LjUP8Otj24Bi"
      },
      "outputs": [],
      "source": [
        "import numpy as np\n",
        "import pandas as pd\n",
        "import matplotlib.pyplot as plt\n",
        "from sklearn.preprocessing import MinMaxScaler\n",
        "from keras.models import Sequential\n",
        "from keras.layers import Dense,LSTM,Dropout"
      ]
    },
    {
      "cell_type": "code",
      "execution_count": 2,
      "metadata": {
        "colab": {
          "base_uri": "https://localhost:8080/",
          "height": 206
        },
        "id": "HKmFeq0424Bs",
        "outputId": "fc9c4d46-6a1f-4cda-f8e4-8b5641925bb1"
      },
      "outputs": [
        {
          "output_type": "execute_result",
          "data": {
            "text/plain": [
              "       Date    Open    High     Low   Close      Volume\n",
              "0  1/3/2012  325.25  332.83  324.97  663.59   7,380,500\n",
              "1  1/4/2012  331.27  333.87  329.08  666.45   5,749,400\n",
              "2  1/5/2012  329.83  330.75  326.89  657.21   6,590,300\n",
              "3  1/6/2012  328.34  328.77  323.68  648.24   5,405,900\n",
              "4  1/9/2012  322.04  322.29  309.46  620.76  11,688,800"
            ],
            "text/html": [
              "\n",
              "  <div id=\"df-ed61c5f4-2c73-40b7-b8d3-85d8e5cd3f4f\" class=\"colab-df-container\">\n",
              "    <div>\n",
              "<style scoped>\n",
              "    .dataframe tbody tr th:only-of-type {\n",
              "        vertical-align: middle;\n",
              "    }\n",
              "\n",
              "    .dataframe tbody tr th {\n",
              "        vertical-align: top;\n",
              "    }\n",
              "\n",
              "    .dataframe thead th {\n",
              "        text-align: right;\n",
              "    }\n",
              "</style>\n",
              "<table border=\"1\" class=\"dataframe\">\n",
              "  <thead>\n",
              "    <tr style=\"text-align: right;\">\n",
              "      <th></th>\n",
              "      <th>Date</th>\n",
              "      <th>Open</th>\n",
              "      <th>High</th>\n",
              "      <th>Low</th>\n",
              "      <th>Close</th>\n",
              "      <th>Volume</th>\n",
              "    </tr>\n",
              "  </thead>\n",
              "  <tbody>\n",
              "    <tr>\n",
              "      <th>0</th>\n",
              "      <td>1/3/2012</td>\n",
              "      <td>325.25</td>\n",
              "      <td>332.83</td>\n",
              "      <td>324.97</td>\n",
              "      <td>663.59</td>\n",
              "      <td>7,380,500</td>\n",
              "    </tr>\n",
              "    <tr>\n",
              "      <th>1</th>\n",
              "      <td>1/4/2012</td>\n",
              "      <td>331.27</td>\n",
              "      <td>333.87</td>\n",
              "      <td>329.08</td>\n",
              "      <td>666.45</td>\n",
              "      <td>5,749,400</td>\n",
              "    </tr>\n",
              "    <tr>\n",
              "      <th>2</th>\n",
              "      <td>1/5/2012</td>\n",
              "      <td>329.83</td>\n",
              "      <td>330.75</td>\n",
              "      <td>326.89</td>\n",
              "      <td>657.21</td>\n",
              "      <td>6,590,300</td>\n",
              "    </tr>\n",
              "    <tr>\n",
              "      <th>3</th>\n",
              "      <td>1/6/2012</td>\n",
              "      <td>328.34</td>\n",
              "      <td>328.77</td>\n",
              "      <td>323.68</td>\n",
              "      <td>648.24</td>\n",
              "      <td>5,405,900</td>\n",
              "    </tr>\n",
              "    <tr>\n",
              "      <th>4</th>\n",
              "      <td>1/9/2012</td>\n",
              "      <td>322.04</td>\n",
              "      <td>322.29</td>\n",
              "      <td>309.46</td>\n",
              "      <td>620.76</td>\n",
              "      <td>11,688,800</td>\n",
              "    </tr>\n",
              "  </tbody>\n",
              "</table>\n",
              "</div>\n",
              "    <div class=\"colab-df-buttons\">\n",
              "\n",
              "  <div class=\"colab-df-container\">\n",
              "    <button class=\"colab-df-convert\" onclick=\"convertToInteractive('df-ed61c5f4-2c73-40b7-b8d3-85d8e5cd3f4f')\"\n",
              "            title=\"Convert this dataframe to an interactive table.\"\n",
              "            style=\"display:none;\">\n",
              "\n",
              "  <svg xmlns=\"http://www.w3.org/2000/svg\" height=\"24px\" viewBox=\"0 -960 960 960\">\n",
              "    <path d=\"M120-120v-720h720v720H120Zm60-500h600v-160H180v160Zm220 220h160v-160H400v160Zm0 220h160v-160H400v160ZM180-400h160v-160H180v160Zm440 0h160v-160H620v160ZM180-180h160v-160H180v160Zm440 0h160v-160H620v160Z\"/>\n",
              "  </svg>\n",
              "    </button>\n",
              "\n",
              "  <style>\n",
              "    .colab-df-container {\n",
              "      display:flex;\n",
              "      gap: 12px;\n",
              "    }\n",
              "\n",
              "    .colab-df-convert {\n",
              "      background-color: #E8F0FE;\n",
              "      border: none;\n",
              "      border-radius: 50%;\n",
              "      cursor: pointer;\n",
              "      display: none;\n",
              "      fill: #1967D2;\n",
              "      height: 32px;\n",
              "      padding: 0 0 0 0;\n",
              "      width: 32px;\n",
              "    }\n",
              "\n",
              "    .colab-df-convert:hover {\n",
              "      background-color: #E2EBFA;\n",
              "      box-shadow: 0px 1px 2px rgba(60, 64, 67, 0.3), 0px 1px 3px 1px rgba(60, 64, 67, 0.15);\n",
              "      fill: #174EA6;\n",
              "    }\n",
              "\n",
              "    .colab-df-buttons div {\n",
              "      margin-bottom: 4px;\n",
              "    }\n",
              "\n",
              "    [theme=dark] .colab-df-convert {\n",
              "      background-color: #3B4455;\n",
              "      fill: #D2E3FC;\n",
              "    }\n",
              "\n",
              "    [theme=dark] .colab-df-convert:hover {\n",
              "      background-color: #434B5C;\n",
              "      box-shadow: 0px 1px 3px 1px rgba(0, 0, 0, 0.15);\n",
              "      filter: drop-shadow(0px 1px 2px rgba(0, 0, 0, 0.3));\n",
              "      fill: #FFFFFF;\n",
              "    }\n",
              "  </style>\n",
              "\n",
              "    <script>\n",
              "      const buttonEl =\n",
              "        document.querySelector('#df-ed61c5f4-2c73-40b7-b8d3-85d8e5cd3f4f button.colab-df-convert');\n",
              "      buttonEl.style.display =\n",
              "        google.colab.kernel.accessAllowed ? 'block' : 'none';\n",
              "\n",
              "      async function convertToInteractive(key) {\n",
              "        const element = document.querySelector('#df-ed61c5f4-2c73-40b7-b8d3-85d8e5cd3f4f');\n",
              "        const dataTable =\n",
              "          await google.colab.kernel.invokeFunction('convertToInteractive',\n",
              "                                                    [key], {});\n",
              "        if (!dataTable) return;\n",
              "\n",
              "        const docLinkHtml = 'Like what you see? Visit the ' +\n",
              "          '<a target=\"_blank\" href=https://colab.research.google.com/notebooks/data_table.ipynb>data table notebook</a>'\n",
              "          + ' to learn more about interactive tables.';\n",
              "        element.innerHTML = '';\n",
              "        dataTable['output_type'] = 'display_data';\n",
              "        await google.colab.output.renderOutput(dataTable, element);\n",
              "        const docLink = document.createElement('div');\n",
              "        docLink.innerHTML = docLinkHtml;\n",
              "        element.appendChild(docLink);\n",
              "      }\n",
              "    </script>\n",
              "  </div>\n",
              "\n",
              "\n",
              "<div id=\"df-8716e84c-93cc-4aaa-ad22-cd5f17d0dc37\">\n",
              "  <button class=\"colab-df-quickchart\" onclick=\"quickchart('df-8716e84c-93cc-4aaa-ad22-cd5f17d0dc37')\"\n",
              "            title=\"Suggest charts\"\n",
              "            style=\"display:none;\">\n",
              "\n",
              "<svg xmlns=\"http://www.w3.org/2000/svg\" height=\"24px\"viewBox=\"0 0 24 24\"\n",
              "     width=\"24px\">\n",
              "    <g>\n",
              "        <path d=\"M19 3H5c-1.1 0-2 .9-2 2v14c0 1.1.9 2 2 2h14c1.1 0 2-.9 2-2V5c0-1.1-.9-2-2-2zM9 17H7v-7h2v7zm4 0h-2V7h2v10zm4 0h-2v-4h2v4z\"/>\n",
              "    </g>\n",
              "</svg>\n",
              "  </button>\n",
              "\n",
              "<style>\n",
              "  .colab-df-quickchart {\n",
              "      --bg-color: #E8F0FE;\n",
              "      --fill-color: #1967D2;\n",
              "      --hover-bg-color: #E2EBFA;\n",
              "      --hover-fill-color: #174EA6;\n",
              "      --disabled-fill-color: #AAA;\n",
              "      --disabled-bg-color: #DDD;\n",
              "  }\n",
              "\n",
              "  [theme=dark] .colab-df-quickchart {\n",
              "      --bg-color: #3B4455;\n",
              "      --fill-color: #D2E3FC;\n",
              "      --hover-bg-color: #434B5C;\n",
              "      --hover-fill-color: #FFFFFF;\n",
              "      --disabled-bg-color: #3B4455;\n",
              "      --disabled-fill-color: #666;\n",
              "  }\n",
              "\n",
              "  .colab-df-quickchart {\n",
              "    background-color: var(--bg-color);\n",
              "    border: none;\n",
              "    border-radius: 50%;\n",
              "    cursor: pointer;\n",
              "    display: none;\n",
              "    fill: var(--fill-color);\n",
              "    height: 32px;\n",
              "    padding: 0;\n",
              "    width: 32px;\n",
              "  }\n",
              "\n",
              "  .colab-df-quickchart:hover {\n",
              "    background-color: var(--hover-bg-color);\n",
              "    box-shadow: 0 1px 2px rgba(60, 64, 67, 0.3), 0 1px 3px 1px rgba(60, 64, 67, 0.15);\n",
              "    fill: var(--button-hover-fill-color);\n",
              "  }\n",
              "\n",
              "  .colab-df-quickchart-complete:disabled,\n",
              "  .colab-df-quickchart-complete:disabled:hover {\n",
              "    background-color: var(--disabled-bg-color);\n",
              "    fill: var(--disabled-fill-color);\n",
              "    box-shadow: none;\n",
              "  }\n",
              "\n",
              "  .colab-df-spinner {\n",
              "    border: 2px solid var(--fill-color);\n",
              "    border-color: transparent;\n",
              "    border-bottom-color: var(--fill-color);\n",
              "    animation:\n",
              "      spin 1s steps(1) infinite;\n",
              "  }\n",
              "\n",
              "  @keyframes spin {\n",
              "    0% {\n",
              "      border-color: transparent;\n",
              "      border-bottom-color: var(--fill-color);\n",
              "      border-left-color: var(--fill-color);\n",
              "    }\n",
              "    20% {\n",
              "      border-color: transparent;\n",
              "      border-left-color: var(--fill-color);\n",
              "      border-top-color: var(--fill-color);\n",
              "    }\n",
              "    30% {\n",
              "      border-color: transparent;\n",
              "      border-left-color: var(--fill-color);\n",
              "      border-top-color: var(--fill-color);\n",
              "      border-right-color: var(--fill-color);\n",
              "    }\n",
              "    40% {\n",
              "      border-color: transparent;\n",
              "      border-right-color: var(--fill-color);\n",
              "      border-top-color: var(--fill-color);\n",
              "    }\n",
              "    60% {\n",
              "      border-color: transparent;\n",
              "      border-right-color: var(--fill-color);\n",
              "    }\n",
              "    80% {\n",
              "      border-color: transparent;\n",
              "      border-right-color: var(--fill-color);\n",
              "      border-bottom-color: var(--fill-color);\n",
              "    }\n",
              "    90% {\n",
              "      border-color: transparent;\n",
              "      border-bottom-color: var(--fill-color);\n",
              "    }\n",
              "  }\n",
              "</style>\n",
              "\n",
              "  <script>\n",
              "    async function quickchart(key) {\n",
              "      const quickchartButtonEl =\n",
              "        document.querySelector('#' + key + ' button');\n",
              "      quickchartButtonEl.disabled = true;  // To prevent multiple clicks.\n",
              "      quickchartButtonEl.classList.add('colab-df-spinner');\n",
              "      try {\n",
              "        const charts = await google.colab.kernel.invokeFunction(\n",
              "            'suggestCharts', [key], {});\n",
              "      } catch (error) {\n",
              "        console.error('Error during call to suggestCharts:', error);\n",
              "      }\n",
              "      quickchartButtonEl.classList.remove('colab-df-spinner');\n",
              "      quickchartButtonEl.classList.add('colab-df-quickchart-complete');\n",
              "    }\n",
              "    (() => {\n",
              "      let quickchartButtonEl =\n",
              "        document.querySelector('#df-8716e84c-93cc-4aaa-ad22-cd5f17d0dc37 button');\n",
              "      quickchartButtonEl.style.display =\n",
              "        google.colab.kernel.accessAllowed ? 'block' : 'none';\n",
              "    })();\n",
              "  </script>\n",
              "</div>\n",
              "    </div>\n",
              "  </div>\n"
            ]
          },
          "metadata": {},
          "execution_count": 2
        }
      ],
      "source": [
        "data = pd.read_csv('Google_train_data.csv')\n",
        "data.head()"
      ]
    },
    {
      "cell_type": "code",
      "execution_count": 3,
      "metadata": {
        "colab": {
          "base_uri": "https://localhost:8080/"
        },
        "id": "HT1Hu3pa24Bu",
        "outputId": "710c4653-9b74-4965-9436-8aeaae74f5e6"
      },
      "outputs": [
        {
          "output_type": "stream",
          "name": "stdout",
          "text": [
            "<class 'pandas.core.frame.DataFrame'>\n",
            "RangeIndex: 1258 entries, 0 to 1257\n",
            "Data columns (total 6 columns):\n",
            " #   Column  Non-Null Count  Dtype  \n",
            "---  ------  --------------  -----  \n",
            " 0   Date    1258 non-null   object \n",
            " 1   Open    1258 non-null   float64\n",
            " 2   High    1258 non-null   float64\n",
            " 3   Low     1258 non-null   float64\n",
            " 4   Close   1258 non-null   object \n",
            " 5   Volume  1258 non-null   object \n",
            "dtypes: float64(3), object(3)\n",
            "memory usage: 59.1+ KB\n"
          ]
        }
      ],
      "source": [
        "data.info()"
      ]
    },
    {
      "cell_type": "code",
      "execution_count": 4,
      "metadata": {
        "id": "l7FUGupF24Bv"
      },
      "outputs": [],
      "source": [
        "data[\"Close\"]=pd.to_numeric(data.Close,errors='coerce')\n",
        "data = data.dropna()\n",
        "trainData = data.iloc[:,4:5].values"
      ]
    },
    {
      "cell_type": "code",
      "execution_count": 5,
      "metadata": {
        "colab": {
          "base_uri": "https://localhost:8080/"
        },
        "id": "euCI2bQy24Bw",
        "outputId": "e78bb6ae-921f-47bb-eafc-daaab6a42dee"
      },
      "outputs": [
        {
          "output_type": "stream",
          "name": "stdout",
          "text": [
            "<class 'pandas.core.frame.DataFrame'>\n",
            "Int64Index: 1149 entries, 0 to 1257\n",
            "Data columns (total 6 columns):\n",
            " #   Column  Non-Null Count  Dtype  \n",
            "---  ------  --------------  -----  \n",
            " 0   Date    1149 non-null   object \n",
            " 1   Open    1149 non-null   float64\n",
            " 2   High    1149 non-null   float64\n",
            " 3   Low     1149 non-null   float64\n",
            " 4   Close   1149 non-null   float64\n",
            " 5   Volume  1149 non-null   object \n",
            "dtypes: float64(4), object(2)\n",
            "memory usage: 62.8+ KB\n"
          ]
        }
      ],
      "source": [
        "data.info()"
      ]
    },
    {
      "cell_type": "code",
      "execution_count": 6,
      "metadata": {
        "colab": {
          "base_uri": "https://localhost:8080/"
        },
        "id": "3dcJG2uO24Bw",
        "outputId": "87a94c4b-7013-4c3c-e85c-155a30818bbe"
      },
      "outputs": [
        {
          "output_type": "execute_result",
          "data": {
            "text/plain": [
              "(1149, 1)"
            ]
          },
          "metadata": {},
          "execution_count": 6
        }
      ],
      "source": [
        "sc = MinMaxScaler(feature_range=(0,1))\n",
        "trainData = sc.fit_transform(trainData)\n",
        "trainData.shape"
      ]
    },
    {
      "cell_type": "code",
      "execution_count": 7,
      "metadata": {
        "id": "eDXW7ZgQ24Bx"
      },
      "outputs": [],
      "source": [
        "X_train = []\n",
        "y_train = []\n",
        "\n",
        "for i in range (60,1149): #60 : timestep // 1149 : length of the data\n",
        "    X_train.append(trainData[i-60:i,0])\n",
        "    y_train.append(trainData[i,0])\n",
        "\n",
        "X_train,y_train = np.array(X_train),np.array(y_train)"
      ]
    },
    {
      "cell_type": "code",
      "execution_count": 8,
      "metadata": {
        "colab": {
          "base_uri": "https://localhost:8080/"
        },
        "id": "CifOPDvW24By",
        "outputId": "8d1f7d64-6870-42e5-983f-59d04a40fc77"
      },
      "outputs": [
        {
          "output_type": "execute_result",
          "data": {
            "text/plain": [
              "(1089, 60, 1)"
            ]
          },
          "metadata": {},
          "execution_count": 8
        }
      ],
      "source": [
        "X_train = np.reshape(X_train,(X_train.shape[0],X_train.shape[1],1)) #adding the batch_size axis\n",
        "X_train.shape"
      ]
    },
    {
      "cell_type": "code",
      "execution_count": 9,
      "metadata": {
        "id": "WVYW0asY24Bz"
      },
      "outputs": [],
      "source": [
        "model = Sequential()\n",
        "\n",
        "model.add(LSTM(units=100, return_sequences = True, input_shape =(X_train.shape[1],1)))\n",
        "model.add(Dropout(0.2))\n",
        "\n",
        "model.add(LSTM(units=100, return_sequences = True))\n",
        "model.add(Dropout(0.2))\n",
        "\n",
        "model.add(LSTM(units=100, return_sequences = True))\n",
        "model.add(Dropout(0.2))\n",
        "\n",
        "model.add(LSTM(units=100, return_sequences = False))\n",
        "model.add(Dropout(0.2))\n",
        "\n",
        "model.add(Dense(units =1))\n",
        "model.compile(optimizer='adam',loss=\"mean_squared_error\")"
      ]
    },
    {
      "cell_type": "code",
      "execution_count": 10,
      "metadata": {
        "colab": {
          "base_uri": "https://localhost:8080/"
        },
        "id": "-gA5DXHh24B2",
        "outputId": "fe4e2863-48a8-4aaa-c332-c474950d1ec8"
      },
      "outputs": [
        {
          "metadata": {
            "tags": null
          },
          "name": "stdout",
          "output_type": "stream",
          "text": [
            "Epoch 1/20\n",
            "35/35 - 10s - loss: 0.0365 - 10s/epoch - 274ms/step\n",
            "Epoch 2/20\n",
            "35/35 - 4s - loss: 0.0112 - 4s/epoch - 118ms/step\n",
            "Epoch 3/20\n",
            "35/35 - 4s - loss: 0.0111 - 4s/epoch - 123ms/step\n",
            "Epoch 4/20\n",
            "35/35 - 4s - loss: 0.0086 - 4s/epoch - 118ms/step\n",
            "Epoch 5/20\n",
            "35/35 - 4s - loss: 0.0079 - 4s/epoch - 122ms/step\n",
            "Epoch 6/20\n",
            "35/35 - 4s - loss: 0.0074 - 4s/epoch - 108ms/step\n",
            "Epoch 7/20\n",
            "35/35 - 4s - loss: 0.0070 - 4s/epoch - 111ms/step\n",
            "Epoch 8/20\n",
            "35/35 - 4s - loss: 0.0092 - 4s/epoch - 129ms/step\n",
            "Epoch 9/20\n",
            "35/35 - 4s - loss: 0.0079 - 4s/epoch - 107ms/step\n",
            "Epoch 10/20\n",
            "35/35 - 4s - loss: 0.0069 - 4s/epoch - 107ms/step\n",
            "Epoch 11/20\n",
            "35/35 - 5s - loss: 0.0055 - 5s/epoch - 134ms/step\n",
            "Epoch 12/20\n",
            "35/35 - 4s - loss: 0.0052 - 4s/epoch - 106ms/step\n",
            "Epoch 13/20\n",
            "35/35 - 4s - loss: 0.0066 - 4s/epoch - 107ms/step\n",
            "Epoch 14/20\n",
            "35/35 - 5s - loss: 0.0059 - 5s/epoch - 134ms/step\n",
            "Epoch 15/20\n",
            "35/35 - 4s - loss: 0.0062 - 4s/epoch - 107ms/step\n",
            "Epoch 16/20\n",
            "35/35 - 4s - loss: 0.0053 - 4s/epoch - 106ms/step\n",
            "Epoch 17/20\n",
            "35/35 - 5s - loss: 0.0053 - 5s/epoch - 134ms/step\n",
            "Epoch 18/20\n",
            "35/35 - 4s - loss: 0.0052 - 4s/epoch - 105ms/step\n",
            "Epoch 19/20\n",
            "35/35 - 4s - loss: 0.0060 - 4s/epoch - 106ms/step\n",
            "Epoch 20/20\n",
            "35/35 - 5s - loss: 0.0049 - 5s/epoch - 132ms/step\n"
          ]
        }
      ],
      "source": [
        "hist = model.fit(X_train, y_train, epochs = 20, batch_size = 32, verbose=2)"
      ]
    },
    {
      "cell_type": "code",
      "execution_count": 11,
      "metadata": {
        "colab": {
          "base_uri": "https://localhost:8080/",
          "height": 472
        },
        "id": "UMwanzKA24B3",
        "outputId": "cdfce5db-d66a-4107-f32d-3aca3685b5ec"
      },
      "outputs": [
        {
          "data": {
            "image/png": "[encoded data removed]",
            "text/plain": [
              "<Figure size 640x480 with 1 Axes>"
            ]
          },
          "metadata": {},
          "output_type": "display_data"
        }
      ],
      "source": [
        "plt.plot(hist.history['loss'])\n",
        "plt.title('Training model loss')\n",
        "plt.ylabel('loss')\n",
        "plt.xlabel('epoch')\n",
        "plt.legend(['train'], loc='upper left')\n",
        "plt.show()"
      ]
    },
    {
      "cell_type": "code",
      "execution_count": 12,
      "metadata": {
        "colab": {
          "base_uri": "https://localhost:8080/"
        },
        "id": "je7CvhDU24B7",
        "outputId": "fbc8244d-3f4e-4ba3-e767-4727a4e17831"
      },
      "outputs": [
        {
          "data": {
            "text/plain": [
              "(192, 60, 1)"
            ]
          },
          "execution_count": 12,
          "metadata": {},
          "output_type": "execute_result"
        }
      ],
      "source": [
        "testData = pd.read_csv('Google_test_data.csv')\n",
        "testData[\"Close\"]=pd.to_numeric(testData.Close,errors='coerce')\n",
        "testData = testData.dropna()\n",
        "testData = testData.iloc[:,4:5]\n",
        "y_test = testData.iloc[60:,0:].values\n",
        "\n",
        "\n",
        "\n",
        "inputClosing = testData.iloc[:,0:].values\n",
        "inputClosing_scaled = sc.transform(inputClosing)\n",
        "inputClosing_scaled.shape\n",
        "X_test = []\n",
        "length = len(testData)\n",
        "timestep = 60\n",
        "for i in range(timestep,length):\n",
        "    X_test.append(inputClosing_scaled[i-timestep:i,0])\n",
        "X_test = np.array(X_test)\n",
        "X_test = np.reshape(X_test,(X_test.shape[0],X_test.shape[1],1))\n",
        "X_test.shape"
      ]
    },
    {
      "cell_type": "code",
      "execution_count": 13,
      "metadata": {
        "colab": {
          "base_uri": "https://localhost:8080/"
        },
        "id": "v4sauIQv24B8",
        "outputId": "fed1b469-3157-48be-8842-d895402daa47"
      },
      "outputs": [
        {
          "metadata": {
            "tags": null
          },
          "name": "stdout",
          "output_type": "stream",
          "text": [
            "6/6 [==============================] - 1s 38ms/step\n"
          ]
        },
        {
          "data": {
            "text/plain": [
              "array([[1.1892613],\n",
              "       [1.1913638],\n",
              "       [1.2008561],\n",
              "       [1.2154282],\n",
              "       [1.2276114],\n",
              "       [1.2285557],\n",
              "       [1.2181816],\n",
              "       [1.2028816],\n",
              "       [1.1922505],\n",
              "       [1.188588 ],\n",
              "       [1.1824163],\n",
              "       [1.17262  ],\n",
              "       [1.1635456],\n",
              "       [1.1550407],\n",
              "       [1.1524953],\n",
              "       [1.1556479],\n",
              "       [1.1703655],\n",
              "       [1.1943289],\n",
              "       [1.2223345],\n",
              "       [1.2505616],\n",
              "       [1.2633609],\n",
              "       [1.2622575],\n",
              "       [1.2461243],\n",
              "       [1.221542 ],\n",
              "       [1.1983253],\n",
              "       [1.1840494],\n",
              "       [1.1795124],\n",
              "       [1.1783175],\n",
              "       [1.1721396],\n",
              "       [1.1628   ],\n",
              "       [1.1522703],\n",
              "       [1.1402531],\n",
              "       [1.1226087],\n",
              "       [1.100722 ],\n",
              "       [1.0906992],\n",
              "       [1.0973481],\n",
              "       [1.1153451],\n",
              "       [1.1369185],\n",
              "       [1.1579875],\n",
              "       [1.1696682],\n",
              "       [1.1810206],\n",
              "       [1.1942809],\n",
              "       [1.2095146],\n",
              "       [1.2238793],\n",
              "       [1.2339653],\n",
              "       [1.2360337],\n",
              "       [1.2284459],\n",
              "       [1.2208622],\n",
              "       [1.2182312],\n",
              "       [1.222482 ],\n",
              "       [1.2330694],\n",
              "       [1.2409045],\n",
              "       [1.2436873],\n",
              "       [1.2417892],\n",
              "       [1.2405901],\n",
              "       [1.237659 ],\n",
              "       [1.2308835],\n",
              "       [1.2271807],\n",
              "       [1.2340443],\n",
              "       [1.2488451],\n",
              "       [1.2707074],\n",
              "       [1.297321 ],\n",
              "       [1.3169223],\n",
              "       [1.3219593],\n",
              "       [1.3134758],\n",
              "       [1.2972912],\n",
              "       [1.2850219],\n",
              "       [1.2801985],\n",
              "       [1.2821012],\n",
              "       [1.2862186],\n",
              "       [1.2908342],\n",
              "       [1.2938441],\n",
              "       [1.2913164],\n",
              "       [1.2868968],\n",
              "       [1.282876 ],\n",
              "       [1.2815238],\n",
              "       [1.2830455],\n",
              "       [1.287169 ],\n",
              "       [1.2968863],\n",
              "       [1.31176  ],\n",
              "       [1.3311459],\n",
              "       [1.3501209],\n",
              "       [1.361715 ],\n",
              "       [1.3644553],\n",
              "       [1.3676735],\n",
              "       [1.3774793],\n",
              "       [1.3920912],\n",
              "       [1.405384 ],\n",
              "       [1.413698 ],\n",
              "       [1.4164015],\n",
              "       [1.4179928],\n",
              "       [1.4254199],\n",
              "       [1.4392908],\n",
              "       [1.4496137],\n",
              "       [1.4501449],\n",
              "       [1.4404346],\n",
              "       [1.4225608],\n",
              "       [1.4011697],\n",
              "       [1.3825675],\n",
              "       [1.3747033],\n",
              "       [1.3787595],\n",
              "       [1.3917749],\n",
              "       [1.4102398],\n",
              "       [1.427294 ],\n",
              "       [1.4385455],\n",
              "       [1.4419051],\n",
              "       [1.4402193],\n",
              "       [1.4368236],\n",
              "       [1.4365668],\n",
              "       [1.4403919],\n",
              "       [1.4478186],\n",
              "       [1.4584104],\n",
              "       [1.4694505],\n",
              "       [1.4812405],\n",
              "       [1.4955182],\n",
              "       [1.5078677],\n",
              "       [1.5174797],\n",
              "       [1.5255994],\n",
              "       [1.535329 ],\n",
              "       [1.5221393],\n",
              "       [1.4841945],\n",
              "       [1.4337431],\n",
              "       [1.3905025],\n",
              "       [1.3641971],\n",
              "       [1.3519903],\n",
              "       [1.3482211],\n",
              "       [1.3483896],\n",
              "       [1.3508395],\n",
              "       [1.3475666],\n",
              "       [1.3363146],\n",
              "       [1.33041  ],\n",
              "       [1.3367004],\n",
              "       [1.3490317],\n",
              "       [1.3566779],\n",
              "       [1.3592855],\n",
              "       [1.3588469],\n",
              "       [1.3548855],\n",
              "       [1.3472643],\n",
              "       [1.3381679],\n",
              "       [1.326057 ],\n",
              "       [1.3131326],\n",
              "       [1.2989101],\n",
              "       [1.2711017],\n",
              "       [1.2368633],\n",
              "       [1.2026738],\n",
              "       [1.1750486],\n",
              "       [1.1616158],\n",
              "       [1.1652097],\n",
              "       [1.1810766],\n",
              "       [1.2018005],\n",
              "       [1.2236339],\n",
              "       [1.2422876],\n",
              "       [1.256883 ],\n",
              "       [1.2691776],\n",
              "       [1.2788467],\n",
              "       [1.2871568],\n",
              "       [1.2959614],\n",
              "       [1.3031529],\n",
              "       [1.3013338],\n",
              "       [1.2895427],\n",
              "       [1.2712204],\n",
              "       [1.2526171],\n",
              "       [1.2413528],\n",
              "       [1.2415366],\n",
              "       [1.2529094],\n",
              "       [1.2725189],\n",
              "       [1.2913661],\n",
              "       [1.306269 ],\n",
              "       [1.3192296],\n",
              "       [1.330933 ],\n",
              "       [1.3406378],\n",
              "       [1.3485341],\n",
              "       [1.3548256],\n",
              "       [1.3575935],\n",
              "       [1.3568206],\n",
              "       [1.3501283],\n",
              "       [1.3410735],\n",
              "       [1.3343436],\n",
              "       [1.3295879],\n",
              "       [1.325246 ],\n",
              "       [1.3463316],\n",
              "       [1.3880724],\n",
              "       [1.4330518],\n",
              "       [1.4666363],\n",
              "       [1.4823439],\n",
              "       [1.4791688],\n",
              "       [1.4542432],\n",
              "       [1.421145 ],\n",
              "       [1.3914535],\n",
              "       [1.3776922],\n",
              "       [1.3761146],\n",
              "       [1.3784949]], dtype=float32)"
            ]
          },
          "execution_count": 13,
          "metadata": {},
          "output_type": "execute_result"
        }
      ],
      "source": [
        "y_pred = model.predict(X_test)\n",
        "y_pred"
      ]
    },
    {
      "cell_type": "code",
      "execution_count": 14,
      "metadata": {
        "id": "ivG_1wkH24B9"
      },
      "outputs": [],
      "source": [
        "predicted_price = sc.inverse_transform(y_pred)"
      ]
    },
    {
      "cell_type": "code",
      "execution_count": 15,
      "metadata": {
        "colab": {
          "base_uri": "https://localhost:8080/",
          "height": 472
        },
        "id": "mWqayjsR24B-",
        "outputId": "60a464b3-b3f6-46b2-948f-3dae04e33899"
      },
      "outputs": [
        {
          "data": {
            "image/png": "[encoded data removed]",
            "text/plain": [
              "<Figure size 640x480 with 1 Axes>"
            ]
          },
          "metadata": {},
          "output_type": "display_data"
        }
      ],
      "source": [
        "plt.plot(y_test, color = 'red', label = 'Actual Stock Price')\n",
        "plt.plot(predicted_price, color = 'green', label = 'Predicted Stock Price')\n",
        "plt.title('Google stock price prediction')\n",
        "plt.xlabel('Time')\n",
        "plt.ylabel('Stock Price')\n",
        "plt.legend()\n",
        "plt.show()"
      ]
    },
    {
      "cell_type": "code",
      "execution_count": 15,
      "metadata": {
        "id": "x6j5zjzc24B_"
      },
      "outputs": [],
      "source": []
    }
  ],
  "metadata": {
    "kernelspec": {
      "display_name": "Python 3",
      "language": "python",
      "name": "python3"
    },
    "language_info": {
      "codemirror_mode": {
        "name": "ipython",
        "version": 3
      },
      "file_extension": ".py",
      "mimetype": "text/x-python",
      "name": "python",
      "nbconvert_exporter": "python",
      "pygments_lexer": "ipython3",
      "version": "3.7.6"
    },
    "colab": {
      "provenance": [],
      "include_colab_link": true
    }
  },
  "nbformat": 4,
  "nbformat_minor": 0
}